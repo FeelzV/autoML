{
 "cells": [
  {
   "cell_type": "code",
   "execution_count": 13,
   "metadata": {},
   "outputs": [
    {
     "ename": "ImportError",
     "evalue": "cannot import name 'split_train_test' from 'sklearn.model_selection' (c:\\Users\\marin\\miniconda3\\envs\\mlbox\\lib\\site-packages\\sklearn\\model_selection\\__init__.py)",
     "output_type": "error",
     "traceback": [
      "\u001b[1;31m---------------------------------------------------------------------------\u001b[0m",
      "\u001b[1;31mImportError\u001b[0m                               Traceback (most recent call last)",
      "\u001b[1;32mE:\\Temp\\ipykernel_9404\\2043844521.py\u001b[0m in \u001b[0;36m<module>\u001b[1;34m\u001b[0m\n\u001b[0;32m      2\u001b[0m \u001b[1;32mimport\u001b[0m \u001b[0mmlbox\u001b[0m\u001b[1;33m\u001b[0m\u001b[1;33m\u001b[0m\u001b[0m\n\u001b[0;32m      3\u001b[0m \u001b[1;32mfrom\u001b[0m \u001b[0mutils\u001b[0m \u001b[1;32mimport\u001b[0m \u001b[0mload\u001b[0m\u001b[1;33m\u001b[0m\u001b[1;33m\u001b[0m\u001b[0m\n\u001b[1;32m----> 4\u001b[1;33m \u001b[1;32mfrom\u001b[0m \u001b[0msklearn\u001b[0m\u001b[1;33m.\u001b[0m\u001b[0mmodel_selection\u001b[0m \u001b[1;32mimport\u001b[0m \u001b[0msplit_train_test\u001b[0m\u001b[1;33m\u001b[0m\u001b[1;33m\u001b[0m\u001b[0m\n\u001b[0m\u001b[0;32m      5\u001b[0m \u001b[1;31m# blobs_data_train, blobs_data_test = load('blobs')\u001b[0m\u001b[1;33m\u001b[0m\u001b[1;33m\u001b[0m\u001b[1;33m\u001b[0m\u001b[0m\n\u001b[0;32m      6\u001b[0m \u001b[1;31m# blobs_predictor =\u001b[0m\u001b[1;33m\u001b[0m\u001b[1;33m\u001b[0m\u001b[1;33m\u001b[0m\u001b[0m\n",
      "\u001b[1;31mImportError\u001b[0m: cannot import name 'split_train_test' from 'sklearn.model_selection' (c:\\Users\\marin\\miniconda3\\envs\\mlbox\\lib\\site-packages\\sklearn\\model_selection\\__init__.py)"
     ]
    }
   ],
   "source": [
    "import pandas as pd\n",
    "import mlbox\n",
    "from utils import load\n",
    "from sklearn.model_selection import train_test_split\n",
    "# blobs_data_train, blobs_data_test = load('blobs')\n",
    "# blobs_predictor = \n",
    "# circles_data_train, circles_data_test = load('circles')\n",
    "# circles_predictor = \n",
    "# moons_data_train, moons_data_test = load('moons')\n",
    "# moons_predictor = \n",
    "# regression_data_train, regression_data_test = load('regression')\n",
    "# regression_predictor = "
   ]
  },
  {
   "cell_type": "code",
   "execution_count": 18,
   "metadata": {},
   "outputs": [
    {
     "name": "stdout",
     "output_type": "stream",
     "text": [
      "\n",
      "reading csv : blobs_train.csv ...\n",
      "cleaning data ...\n",
      "CPU time: 0.010999202728271484 seconds\n",
      "\n",
      "reading csv : blobs_test_no_labels.csv ...\n",
      "cleaning data ...\n",
      "CPU time: 0.004000663757324219 seconds\n",
      "\n",
      "> Number of common features : 2\n",
      "\n",
      "gathering and crunching for train and test datasets ...\n",
      "reindexing for train and test datasets ...\n",
      "dropping training duplicates ...\n",
      "dropping constant variables on training set ...\n",
      "\n",
      "> Number of categorical features: 0\n",
      "> Number of numerical features: 2\n",
      "> Number of training samples : 4000\n",
      "> Number of test samples : 1000\n",
      "\n",
      "> You have no missing values on train set...\n",
      "\n",
      "> Task : regression\n",
      "count    4000.000000\n",
      "mean        1.999750\n",
      "std         1.413241\n",
      "min         0.000000\n",
      "25%         1.000000\n",
      "50%         2.000000\n",
      "75%         3.000000\n",
      "max         4.000000\n",
      "Name: label, dtype: float64\n",
      "\n",
      "computing drifts ...\n",
      "CPU time: 0.041002511978149414 seconds\n",
      "\n",
      "> Top 10 drifts\n",
      "\n",
      "('x', 0.0398369999999999)\n",
      "('y', 0.0034969999999998613)\n",
      "\n",
      "> Deleted variables : []\n",
      "> Drift coefficients dumped into directory : save\n",
      "<class 'dict'>\n"
     ]
    },
    {
     "name": "stderr",
     "output_type": "stream",
     "text": [
      "c:\\Users\\marin\\miniconda3\\envs\\mlbox\\lib\\site-packages\\mlbox\\optimisation\\optimiser.py:74: UserWarning: Optimiser will save all your fitted models into directory 'save/joblib'. Please clear it regularly.\n",
      "  +str(self.to_path)+\"/joblib'. Please clear it regularly.\")\n"
     ]
    },
    {
     "ename": "TypeError",
     "evalue": "optimise() missing 1 required positional argument: 'df'",
     "output_type": "error",
     "traceback": [
      "\u001b[1;31m---------------------------------------------------------------------------\u001b[0m",
      "\u001b[1;31mTypeError\u001b[0m                                 Traceback (most recent call last)",
      "\u001b[1;32mE:\\Temp\\ipykernel_9404\\3823007396.py\u001b[0m in \u001b[0;36m<module>\u001b[1;34m\u001b[0m\n\u001b[0;32m      6\u001b[0m \u001b[0mopt\u001b[0m \u001b[1;33m=\u001b[0m \u001b[0mmlbox\u001b[0m\u001b[1;33m.\u001b[0m\u001b[0moptimisation\u001b[0m\u001b[1;33m.\u001b[0m\u001b[0mOptimiser\u001b[0m\u001b[1;33m(\u001b[0m\u001b[0mscoring\u001b[0m\u001b[1;33m=\u001b[0m\u001b[1;34m'accuracy'\u001b[0m\u001b[1;33m,\u001b[0m \u001b[0mn_folds\u001b[0m\u001b[1;33m=\u001b[0m\u001b[1;36m3\u001b[0m\u001b[1;33m)\u001b[0m\u001b[1;33m\u001b[0m\u001b[1;33m\u001b[0m\u001b[0m\n\u001b[0;32m      7\u001b[0m \u001b[0mprint\u001b[0m\u001b[1;33m(\u001b[0m\u001b[0mtype\u001b[0m \u001b[1;33m(\u001b[0m\u001b[0mblob_data\u001b[0m\u001b[1;33m)\u001b[0m\u001b[1;33m)\u001b[0m\u001b[1;33m\u001b[0m\u001b[1;33m\u001b[0m\u001b[0m\n\u001b[1;32m----> 8\u001b[1;33m \u001b[0mbest\u001b[0m \u001b[1;33m=\u001b[0m \u001b[0mopt\u001b[0m\u001b[1;33m.\u001b[0m\u001b[0moptimise\u001b[0m\u001b[1;33m(\u001b[0m\u001b[0mblob_data\u001b[0m\u001b[1;33m)\u001b[0m\u001b[1;33m\u001b[0m\u001b[1;33m\u001b[0m\u001b[0m\n\u001b[0m\u001b[0;32m      9\u001b[0m \u001b[1;33m\u001b[0m\u001b[0m\n",
      "\u001b[1;31mTypeError\u001b[0m: optimise() missing 1 required positional argument: 'df'"
     ]
    }
   ],
   "source": [
    "blob_train_file = 'datasets/blobs_train.csv'\n",
    "blob_test_file = 'datasets/blobs_test_no_labels.csv'\n",
    "blob_data = mlbox.preprocessing.Reader(sep=',').train_test_split([blob_train_file, blob_test_file], 'label')\n",
    "dft = mlbox.preprocessing.Drift_thresholder()\n",
    "blob_data = dft.fit_transform(blob_data)\n",
    "opt = mlbox.optimisation.Optimiser(scoring='accuracy', n_folds=3)\n",
    "best = opt.optimise(blob_data)"
   ]
  },
  {
   "cell_type": "code",
   "execution_count": null,
   "metadata": {},
   "outputs": [],
   "source": []
  }
 ],
 "metadata": {
  "kernelspec": {
   "display_name": "automl",
   "language": "python",
   "name": "python3"
  },
  "language_info": {
   "codemirror_mode": {
    "name": "ipython",
    "version": 3
   },
   "file_extension": ".py",
   "mimetype": "text/x-python",
   "name": "python",
   "nbconvert_exporter": "python",
   "pygments_lexer": "ipython3",
   "version": "3.7.12"
  },
  "orig_nbformat": 4
 },
 "nbformat": 4,
 "nbformat_minor": 2
}
