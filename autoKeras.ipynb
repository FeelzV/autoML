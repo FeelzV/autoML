{
 "cells": [
  {
   "cell_type": "code",
   "execution_count": 2,
   "metadata": {},
   "outputs": [],
   "source": [
    "import autokeras as ak\n",
    "from utils import load\n",
    "\n",
    "epochs_num = 7\n",
    "max_trials_num = 10"
   ]
  },
  {
   "cell_type": "code",
   "execution_count": 5,
   "metadata": {},
   "outputs": [
    {
     "name": "stdout",
     "output_type": "stream",
     "text": [
      "Trial 10 Complete [00h 00m 03s]\n",
      "val_accuracy: 0.9912499785423279\n",
      "\n",
      "Best val_accuracy So Far: 0.9950000047683716\n",
      "Total elapsed time: 00h 00m 28s\n",
      "INFO:tensorflow:Oracle triggered exit\n",
      "Epoch 1/7\n",
      "125/125 [==============================] - 1s 992us/step - loss: 0.1323 - accuracy: 0.9563\n",
      "Epoch 2/7\n",
      "125/125 [==============================] - 0s 1ms/step - loss: 0.1089 - accuracy: 0.9740\n",
      "Epoch 3/7\n",
      "125/125 [==============================] - 0s 1ms/step - loss: 0.0535 - accuracy: 0.9840\n",
      "Epoch 4/7\n",
      "125/125 [==============================] - 0s 1ms/step - loss: 0.0600 - accuracy: 0.9833\n",
      "Epoch 5/7\n",
      "125/125 [==============================] - 0s 1ms/step - loss: 0.0578 - accuracy: 0.9822\n",
      "Epoch 6/7\n",
      "125/125 [==============================] - 0s 1ms/step - loss: 0.0656 - accuracy: 0.9820\n",
      "Epoch 7/7\n",
      "125/125 [==============================] - 0s 1ms/step - loss: 0.0544 - accuracy: 0.9822\n"
     ]
    },
    {
     "name": "stderr",
     "output_type": "stream",
     "text": [
      "WARNING:absl:Found untraced functions such as _update_step_xla while saving (showing 1 of 1). These functions will not be directly callable after loading.\n"
     ]
    },
    {
     "name": "stdout",
     "output_type": "stream",
     "text": [
      "INFO:tensorflow:Assets written to: .\\structured_data_classifier\\best_model\\assets\n"
     ]
    },
    {
     "name": "stderr",
     "output_type": "stream",
     "text": [
      "INFO:tensorflow:Assets written to: .\\structured_data_classifier\\best_model\\assets\n"
     ]
    },
    {
     "data": {
      "text/plain": [
       "<keras.callbacks.History at 0x14ac9cc6560>"
      ]
     },
     "execution_count": 5,
     "metadata": {},
     "output_type": "execute_result"
    }
   ],
   "source": [
    "blobs_predictor = ak.StructuredDataClassifier(max_trials=max_trials_num, overwrite=True)\n",
    "blobs_predictor.fit(\"datasets/blobs_train.csv\", 'label', epochs=epochs_num)"
   ]
  },
  {
   "cell_type": "code",
   "execution_count": 6,
   "metadata": {},
   "outputs": [
    {
     "name": "stdout",
     "output_type": "stream",
     "text": [
      "32/32 [==============================] - 0s 1ms/step - loss: 0.0453 - accuracy: 0.9850\n"
     ]
    },
    {
     "data": {
      "text/plain": [
       "[0.045291416347026825, 0.9850000143051147]"
      ]
     },
     "execution_count": 6,
     "metadata": {},
     "output_type": "execute_result"
    }
   ],
   "source": [
    "blobs_predictor.evaluate(\"datasets/blobs_test.csv\", 'label')"
   ]
  },
  {
   "cell_type": "code",
   "execution_count": 7,
   "metadata": {},
   "outputs": [
    {
     "name": "stdout",
     "output_type": "stream",
     "text": [
      "Trial 10 Complete [00h 00m 03s]\n",
      "val_accuracy: 0.8537499904632568\n",
      "\n",
      "Best val_accuracy So Far: 0.9049999713897705\n",
      "Total elapsed time: 00h 00m 28s\n",
      "INFO:tensorflow:Oracle triggered exit\n"
     ]
    },
    {
     "name": "stderr",
     "output_type": "stream",
     "text": [
      "INFO:tensorflow:Oracle triggered exit\n"
     ]
    },
    {
     "name": "stdout",
     "output_type": "stream",
     "text": [
      "Epoch 1/7\n",
      "125/125 [==============================] - 1s 1ms/step - loss: 0.6882 - accuracy: 0.5100\n",
      "Epoch 2/7\n",
      "125/125 [==============================] - 0s 1ms/step - loss: 0.6717 - accuracy: 0.5798\n",
      "Epoch 3/7\n",
      "125/125 [==============================] - 0s 1ms/step - loss: 0.6291 - accuracy: 0.7190\n",
      "Epoch 4/7\n",
      "125/125 [==============================] - 0s 1ms/step - loss: 0.5342 - accuracy: 0.8245\n",
      "Epoch 5/7\n",
      "125/125 [==============================] - 0s 1ms/step - loss: 0.4110 - accuracy: 0.8785\n",
      "Epoch 6/7\n",
      "125/125 [==============================] - 0s 1ms/step - loss: 0.3322 - accuracy: 0.8825\n",
      "Epoch 7/7\n",
      "125/125 [==============================] - 0s 1ms/step - loss: 0.2952 - accuracy: 0.8878\n"
     ]
    },
    {
     "name": "stderr",
     "output_type": "stream",
     "text": [
      "WARNING:absl:Found untraced functions such as _update_step_xla while saving (showing 1 of 1). These functions will not be directly callable after loading.\n"
     ]
    },
    {
     "name": "stdout",
     "output_type": "stream",
     "text": [
      "INFO:tensorflow:Assets written to: .\\structured_data_classifier\\best_model\\assets\n"
     ]
    },
    {
     "name": "stderr",
     "output_type": "stream",
     "text": [
      "INFO:tensorflow:Assets written to: .\\structured_data_classifier\\best_model\\assets\n"
     ]
    },
    {
     "data": {
      "text/plain": [
       "<keras.callbacks.History at 0x14ac7a08940>"
      ]
     },
     "execution_count": 7,
     "metadata": {},
     "output_type": "execute_result"
    }
   ],
   "source": [
    "circles_predictor = ak.StructuredDataClassifier(max_trials=max_trials_num, overwrite=True)\n",
    "circles_predictor.fit(\"datasets/circles_train.csv\", 'label', epochs=epochs_num)"
   ]
  },
  {
   "cell_type": "code",
   "execution_count": 8,
   "metadata": {},
   "outputs": [
    {
     "name": "stdout",
     "output_type": "stream",
     "text": [
      "32/32 [==============================] - 0s 2ms/step - loss: 0.2644 - accuracy: 0.9060\n"
     ]
    },
    {
     "data": {
      "text/plain": [
       "[0.26439031958580017, 0.906000018119812]"
      ]
     },
     "execution_count": 8,
     "metadata": {},
     "output_type": "execute_result"
    }
   ],
   "source": [
    "circles_predictor.evaluate(\"datasets/circles_test.csv\", 'label')"
   ]
  },
  {
   "cell_type": "code",
   "execution_count": 9,
   "metadata": {},
   "outputs": [
    {
     "name": "stdout",
     "output_type": "stream",
     "text": [
      "Trial 10 Complete [00h 00m 04s]\n",
      "val_accuracy: 0.987500011920929\n",
      "\n",
      "Best val_accuracy So Far: 0.987500011920929\n",
      "Total elapsed time: 00h 00m 30s\n",
      "INFO:tensorflow:Oracle triggered exit\n"
     ]
    },
    {
     "name": "stderr",
     "output_type": "stream",
     "text": [
      "INFO:tensorflow:Oracle triggered exit\n"
     ]
    },
    {
     "name": "stdout",
     "output_type": "stream",
     "text": [
      "Epoch 1/7\n",
      "125/125 [==============================] - 1s 2ms/step - loss: 0.2169 - accuracy: 0.9130\n",
      "Epoch 2/7\n",
      "125/125 [==============================] - 0s 2ms/step - loss: 0.1080 - accuracy: 0.9653\n",
      "Epoch 3/7\n",
      "125/125 [==============================] - 0s 2ms/step - loss: 0.0957 - accuracy: 0.9675\n",
      "Epoch 4/7\n",
      "125/125 [==============================] - 0s 2ms/step - loss: 0.0863 - accuracy: 0.9697\n",
      "Epoch 5/7\n",
      "125/125 [==============================] - 0s 2ms/step - loss: 0.0830 - accuracy: 0.9720\n",
      "Epoch 6/7\n",
      "125/125 [==============================] - 0s 2ms/step - loss: 0.0857 - accuracy: 0.9707\n",
      "Epoch 7/7\n",
      "125/125 [==============================] - 0s 2ms/step - loss: 0.0812 - accuracy: 0.9715\n"
     ]
    },
    {
     "name": "stderr",
     "output_type": "stream",
     "text": [
      "WARNING:absl:Found untraced functions such as _update_step_xla while saving (showing 1 of 1). These functions will not be directly callable after loading.\n"
     ]
    },
    {
     "name": "stdout",
     "output_type": "stream",
     "text": [
      "INFO:tensorflow:Assets written to: .\\structured_data_classifier\\best_model\\assets\n"
     ]
    },
    {
     "name": "stderr",
     "output_type": "stream",
     "text": [
      "INFO:tensorflow:Assets written to: .\\structured_data_classifier\\best_model\\assets\n"
     ]
    },
    {
     "data": {
      "text/plain": [
       "<keras.callbacks.History at 0x14ac788b1f0>"
      ]
     },
     "execution_count": 9,
     "metadata": {},
     "output_type": "execute_result"
    }
   ],
   "source": [
    "moons_predictor = ak.StructuredDataClassifier(max_trials=max_trials_num, overwrite=True)\n",
    "moons_predictor.fit(\"datasets/moons_train.csv\", 'label', epochs=epochs_num)"
   ]
  },
  {
   "cell_type": "code",
   "execution_count": 10,
   "metadata": {},
   "outputs": [
    {
     "name": "stdout",
     "output_type": "stream",
     "text": [
      "32/32 [==============================] - 0s 1ms/step - loss: 0.0362 - accuracy: 0.9900\n"
     ]
    },
    {
     "data": {
      "text/plain": [
       "[0.0362207293510437, 0.9900000095367432]"
      ]
     },
     "execution_count": 10,
     "metadata": {},
     "output_type": "execute_result"
    }
   ],
   "source": [
    "moons_predictor.evaluate(\"datasets/moons_test.csv\", 'label')"
   ]
  },
  {
   "cell_type": "code",
   "execution_count": 11,
   "metadata": {},
   "outputs": [
    {
     "name": "stdout",
     "output_type": "stream",
     "text": [
      "Trial 10 Complete [00h 00m 03s]\n",
      "val_loss: 278.3775634765625\n",
      "\n",
      "Best val_loss So Far: 250.2784423828125\n",
      "Total elapsed time: 00h 00m 28s\n",
      "INFO:tensorflow:Oracle triggered exit\n"
     ]
    },
    {
     "name": "stderr",
     "output_type": "stream",
     "text": [
      "INFO:tensorflow:Oracle triggered exit\n"
     ]
    },
    {
     "name": "stdout",
     "output_type": "stream",
     "text": [
      "Epoch 1/7\n",
      "125/125 [==============================] - 1s 2ms/step - loss: 2396.2158 - mean_squared_error: 2396.2158\n",
      "Epoch 2/7\n",
      "125/125 [==============================] - 0s 1ms/step - loss: 266.4250 - mean_squared_error: 266.4250\n",
      "Epoch 3/7\n",
      "125/125 [==============================] - 0s 1ms/step - loss: 239.5871 - mean_squared_error: 239.5871\n",
      "Epoch 4/7\n",
      "125/125 [==============================] - 0s 1ms/step - loss: 229.1889 - mean_squared_error: 229.1889\n",
      "Epoch 5/7\n",
      "125/125 [==============================] - 0s 1ms/step - loss: 227.5484 - mean_squared_error: 227.5484\n",
      "Epoch 6/7\n",
      "125/125 [==============================] - 0s 1ms/step - loss: 227.4246 - mean_squared_error: 227.4246\n",
      "Epoch 7/7\n",
      "125/125 [==============================] - 0s 2ms/step - loss: 227.1368 - mean_squared_error: 227.1368\n"
     ]
    },
    {
     "name": "stderr",
     "output_type": "stream",
     "text": [
      "WARNING:absl:Found untraced functions such as _update_step_xla while saving (showing 1 of 1). These functions will not be directly callable after loading.\n"
     ]
    },
    {
     "name": "stdout",
     "output_type": "stream",
     "text": [
      "INFO:tensorflow:Assets written to: .\\structured_data_regressor\\best_model\\assets\n"
     ]
    },
    {
     "name": "stderr",
     "output_type": "stream",
     "text": [
      "INFO:tensorflow:Assets written to: .\\structured_data_regressor\\best_model\\assets\n"
     ]
    },
    {
     "data": {
      "text/plain": [
       "<keras.callbacks.History at 0x14acd011210>"
      ]
     },
     "execution_count": 11,
     "metadata": {},
     "output_type": "execute_result"
    }
   ],
   "source": [
    "regression_predictor = ak.StructuredDataRegressor(max_trials=max_trials_num, overwrite=True)\n",
    "regression_predictor.fit(\"datasets/regression_train.csv\", 'y', epochs=epochs_num)"
   ]
  },
  {
   "cell_type": "code",
   "execution_count": 12,
   "metadata": {},
   "outputs": [
    {
     "name": "stdout",
     "output_type": "stream",
     "text": [
      "32/32 [==============================] - 0s 1ms/step - loss: 238.9733 - mean_squared_error: 238.9733\n"
     ]
    },
    {
     "data": {
      "text/plain": [
       "[238.9733428955078, 238.9733428955078]"
      ]
     },
     "execution_count": 12,
     "metadata": {},
     "output_type": "execute_result"
    }
   ],
   "source": [
    "regression_predictor.evaluate(\"datasets/regression_test.csv\", 'y')"
   ]
  },
  {
   "cell_type": "code",
   "execution_count": 13,
   "metadata": {},
   "outputs": [
    {
     "name": "stdout",
     "output_type": "stream",
     "text": [
      "Trial 1 Complete [00h 02m 08s]\n",
      "val_loss: 0.21457894146442413\n",
      "\n",
      "Best val_loss So Far: 0.21457894146442413\n",
      "Total elapsed time: 00h 02m 08s\n",
      "INFO:tensorflow:Oracle triggered exit\n"
     ]
    },
    {
     "name": "stderr",
     "output_type": "stream",
     "text": [
      "INFO:tensorflow:Oracle triggered exit\n"
     ]
    },
    {
     "name": "stdout",
     "output_type": "stream",
     "text": [
      "Epoch 1/7\n",
      "450/450 [==============================] - 22s 47ms/step - loss: 1.1309 - accuracy: 0.5576\n",
      "Epoch 2/7\n",
      "450/450 [==============================] - 21s 47ms/step - loss: 0.2691 - accuracy: 0.9028\n",
      "Epoch 3/7\n",
      "450/450 [==============================] - 21s 47ms/step - loss: 0.1573 - accuracy: 0.9414\n",
      "Epoch 4/7\n",
      "450/450 [==============================] - 21s 46ms/step - loss: 0.1145 - accuracy: 0.9565\n",
      "Epoch 5/7\n",
      "450/450 [==============================] - 21s 46ms/step - loss: 0.0861 - accuracy: 0.9701\n",
      "Epoch 6/7\n",
      "450/450 [==============================] - 21s 46ms/step - loss: 0.0668 - accuracy: 0.9762\n",
      "Epoch 7/7\n",
      "450/450 [==============================] - 21s 46ms/step - loss: 0.0559 - accuracy: 0.9806\n"
     ]
    },
    {
     "name": "stderr",
     "output_type": "stream",
     "text": [
      "WARNING:absl:Found untraced functions such as _jit_compiled_convolution_op, _update_step_xla while saving (showing 2 of 2). These functions will not be directly callable after loading.\n"
     ]
    },
    {
     "name": "stdout",
     "output_type": "stream",
     "text": [
      "INFO:tensorflow:Assets written to: .\\text_classifier\\best_model\\assets\n"
     ]
    },
    {
     "name": "stderr",
     "output_type": "stream",
     "text": [
      "INFO:tensorflow:Assets written to: .\\text_classifier\\best_model\\assets\n"
     ]
    },
    {
     "data": {
      "text/plain": [
       "<keras.callbacks.History at 0x14ac8c1d000>"
      ]
     },
     "execution_count": 13,
     "metadata": {},
     "output_type": "execute_result"
    }
   ],
   "source": [
    "emotion_predictor = ak.TextClassifier(max_trials=1, overwrite=True)\n",
    "emotion_train , emotion_test = load(\"emotion\")\n",
    "emotion_train_x, emotion_train_y = emotion_train['text'].to_numpy(), emotion_train['label'].to_numpy()\n",
    "emotion_test_x, emotion_test_y = emotion_test['text'].to_numpy(), emotion_test['label'].to_numpy()\n",
    "emotion_predictor.fit(emotion_train_x, emotion_train_y, epochs=epochs_num)"
   ]
  },
  {
   "cell_type": "code",
   "execution_count": 4,
   "metadata": {},
   "outputs": [
    {
     "name": "stdout",
     "output_type": "stream",
     "text": [
      "Trial 10 Complete [00h 00m 03s]\n",
      "val_accuracy: 0.5956284403800964\n",
      "\n",
      "Best val_accuracy So Far: 0.8142076730728149\n",
      "Total elapsed time: 00h 00m 31s\n",
      "INFO:tensorflow:Oracle triggered exit\n",
      "Epoch 1/7\n",
      "33/33 [==============================] - 1s 1ms/step - loss: 0.6320 - accuracy: 0.6714\n",
      "Epoch 2/7\n",
      "33/33 [==============================] - 0s 1ms/step - loss: 0.5578 - accuracy: 0.7316\n",
      "Epoch 3/7\n",
      "33/33 [==============================] - 0s 1ms/step - loss: 0.5038 - accuracy: 0.7660\n",
      "Epoch 4/7\n",
      "33/33 [==============================] - 0s 1ms/step - loss: 0.4689 - accuracy: 0.7832\n",
      "Epoch 5/7\n",
      "33/33 [==============================] - 0s 1ms/step - loss: 0.4516 - accuracy: 0.7947\n",
      "Epoch 6/7\n",
      "33/33 [==============================] - 0s 1ms/step - loss: 0.4428 - accuracy: 0.7966\n",
      "Epoch 7/7\n",
      "33/33 [==============================] - 0s 1ms/step - loss: 0.4367 - accuracy: 0.8013\n"
     ]
    },
    {
     "name": "stderr",
     "output_type": "stream",
     "text": [
      "WARNING:absl:Found untraced functions such as _update_step_xla while saving (showing 1 of 1). These functions will not be directly callable after loading.\n"
     ]
    },
    {
     "name": "stdout",
     "output_type": "stream",
     "text": [
      "INFO:tensorflow:Assets written to: .\\structured_data_classifier\\best_model\\assets\n"
     ]
    },
    {
     "name": "stderr",
     "output_type": "stream",
     "text": [
      "INFO:tensorflow:Assets written to: .\\structured_data_classifier\\best_model\\assets\n"
     ]
    },
    {
     "data": {
      "text/plain": [
       "<keras.callbacks.History at 0x19b2262e7d0>"
      ]
     },
     "execution_count": 4,
     "metadata": {},
     "output_type": "execute_result"
    }
   ],
   "source": [
    "titanic_predictor = ak.StructuredDataClassifier(max_trials=max_trials_num, overwrite=True)\n",
    "titanic_predictor.fit(\"datasets/titanic_train.csv\", 'survived', epochs=epochs_num)"
   ]
  },
  {
   "cell_type": "code",
   "execution_count": 5,
   "metadata": {},
   "outputs": [
    {
     "name": "stdout",
     "output_type": "stream",
     "text": [
      "9/9 [==============================] - 0s 1ms/step - loss: 0.4594 - accuracy: 0.8168\n"
     ]
    },
    {
     "data": {
      "text/plain": [
       "[0.4594211280345917, 0.8167939186096191]"
      ]
     },
     "execution_count": 5,
     "metadata": {},
     "output_type": "execute_result"
    }
   ],
   "source": [
    "titanic_predictor.evaluate(\"datasets/titanic_test.csv\", 'survived')"
   ]
  }
 ],
 "metadata": {
  "kernelspec": {
   "display_name": "conda-env",
   "language": "python",
   "name": "python3"
  },
  "language_info": {
   "codemirror_mode": {
    "name": "ipython",
    "version": 3
   },
   "file_extension": ".py",
   "mimetype": "text/x-python",
   "name": "python",
   "nbconvert_exporter": "python",
   "pygments_lexer": "ipython3",
   "version": "3.10.9"
  },
  "orig_nbformat": 4
 },
 "nbformat": 4,
 "nbformat_minor": 2
}
