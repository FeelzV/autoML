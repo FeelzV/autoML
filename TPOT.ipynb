{
 "cells": [
  {
   "cell_type": "code",
   "execution_count": 2,
   "metadata": {},
   "outputs": [
    {
     "name": "stderr",
     "output_type": "stream",
     "text": [
      "c:\\Users\\marin\\miniconda3\\envs\\mlbox\\lib\\site-packages\\tpot\\builtins\\__init__.py:36: UserWarning: Warning: optional dependency `torch` is not available. - skipping import of NN models.\n",
      "  warnings.warn(\"Warning: optional dependency `torch` is not available. - skipping import of NN models.\")\n"
     ]
    }
   ],
   "source": [
    "\n",
    "import tpot\n",
    "from utils import load\n",
    "datasets = [\"blobs\", \"circles\", \"moons\", \"emotion\", \"titanic\"]\n",
    "labels = [\"label\", \"label\", \"label\", \"label\", \"survived\"]\n",
    "results = []\n",
    "    # data_train, data_test = load(datasets[i])\n",
    "    # data_train_x = data_train.drop(columns=[labels[i]])\n",
    "    # data_train_y = data_train[labels[i]]\n",
    "    # data_test_x = data_test.drop(columns=[labels[i]])\n",
    "    # data_test_y = data_test[labels[i]]\n",
    "\n",
    "    # #cv = tpot.RepeatedKFold(n_splits=10, n_repeats=3, random_state=1)\n",
    "    # # define search\n",
    "    # model = tpot.TPOTClassifier(generations=5, population_size=50, scoring='accuracy')\n",
    "    # model.fit(data_train_x, data_train_y)\n",
    "    # results.append(model.score(data_test_x, data_test_y))\n",
    "# predictor = AutoML()\n",
    "# predictor.fit(data_train_x, data_train_y)\n",
    "# predictions = predictor.predict(data_test_x)\n",
    "# accuracy_score = predictor.score(data_test_x, data_test_y)\n",
    "# results.append(accuracy_score)"
   ]
  },
  {
   "cell_type": "code",
   "execution_count": 3,
   "metadata": {},
   "outputs": [],
   "source": [
    "i=0\n",
    "data_train, data_test = load(datasets[i])\n",
    "data_train_x = data_train.drop(columns=[labels[i]])\n",
    "data_train_y = data_train[labels[i]]\n",
    "data_test_x = data_test.drop(columns=[labels[i]])\n",
    "data_test_y = data_test[labels[i]]\n",
    "\n",
    "model_blobs = tpot.TPOTClassifier(generations=5, population_size=50, scoring='accuracy')\n",
    "model_blobs.fit(data_train_x, data_train_y)\n",
    "results.append(model_blobs.score(data_test_x, data_test_y))"
   ]
  },
  {
   "cell_type": "code",
   "execution_count": 8,
   "metadata": {},
   "outputs": [],
   "source": [
    "i=1\n",
    "data_train, data_test = load(datasets[i])\n",
    "data_train_x = data_train.drop(columns=[labels[i]])\n",
    "data_train_y = data_train[labels[i]]\n",
    "data_test_x = data_test.drop(columns=[labels[i]])\n",
    "data_test_y = data_test[labels[i]]\n",
    "\n",
    "#cv = tpot.RepeatedKFold(n_splits=10, n_repeats=3, random_state=1)\n",
    "# define search\n",
    "model_circles = tpot.TPOTClassifier(generations=5, population_size=50, scoring='accuracy')\n",
    "model_circles.fit(data_train_x, data_train_y)\n",
    "results.append(model_circles.score(data_test_x, data_test_y))"
   ]
  },
  {
   "cell_type": "code",
   "execution_count": 9,
   "metadata": {},
   "outputs": [],
   "source": [
    "i=2\n",
    "data_train, data_test = load(datasets[i])\n",
    "data_train_x = data_train.drop(columns=[labels[i]])\n",
    "data_train_y = data_train[labels[i]]\n",
    "data_test_x = data_test.drop(columns=[labels[i]])\n",
    "data_test_y = data_test[labels[i]]\n",
    "\n",
    "#cv = tpot.RepeatedKFold(n_splits=10, n_repeats=3, random_state=1)\n",
    "# define search\n",
    "model_moons = tpot.TPOTClassifier(generations=5, population_size=50, scoring='accuracy')\n",
    "model_moons.fit(data_train_x, data_train_y)\n",
    "results.append(model_moons.score(data_test_x, data_test_y))"
   ]
  },
  {
   "cell_type": "code",
   "execution_count": 14,
   "metadata": {},
   "outputs": [
    {
     "ename": "ValueError",
     "evalue": "bad input shape (1047, 11)",
     "output_type": "error",
     "traceback": [
      "\u001b[1;31m---------------------------------------------------------------------------\u001b[0m",
      "\u001b[1;31mValueError\u001b[0m                                Traceback (most recent call last)",
      "\u001b[1;32mE:\\Temp\\ipykernel_19684\\1657539109.py\u001b[0m in \u001b[0;36m<module>\u001b[1;34m\u001b[0m\n\u001b[0;32m      5\u001b[0m \u001b[0mdata_train_x\u001b[0m \u001b[1;33m=\u001b[0m \u001b[0mdata_train\u001b[0m\u001b[1;33m.\u001b[0m\u001b[0mdrop\u001b[0m\u001b[1;33m(\u001b[0m\u001b[0mcolumns\u001b[0m\u001b[1;33m=\u001b[0m\u001b[1;33m[\u001b[0m\u001b[0mlabels\u001b[0m\u001b[1;33m[\u001b[0m\u001b[0mi\u001b[0m\u001b[1;33m]\u001b[0m\u001b[1;33m]\u001b[0m\u001b[1;33m)\u001b[0m\u001b[1;33m\u001b[0m\u001b[1;33m\u001b[0m\u001b[0m\n\u001b[0;32m      6\u001b[0m \u001b[0mdata_train_x\u001b[0m \u001b[1;33m=\u001b[0m \u001b[0mdata_train\u001b[0m\u001b[1;33m.\u001b[0m\u001b[0mdrop\u001b[0m\u001b[1;33m(\u001b[0m\u001b[0mcolumns\u001b[0m\u001b[1;33m=\u001b[0m\u001b[1;33m[\u001b[0m\u001b[1;34m\"name\"\u001b[0m\u001b[1;33m]\u001b[0m\u001b[1;33m)\u001b[0m\u001b[1;33m\u001b[0m\u001b[1;33m\u001b[0m\u001b[0m\n\u001b[1;32m----> 7\u001b[1;33m \u001b[0mdata_train_x\u001b[0m \u001b[1;33m=\u001b[0m \u001b[0mlabel_encoder\u001b[0m\u001b[1;33m.\u001b[0m\u001b[0mfit_transform\u001b[0m\u001b[1;33m(\u001b[0m\u001b[0mdata_train_x\u001b[0m\u001b[1;33m)\u001b[0m\u001b[1;33m\u001b[0m\u001b[1;33m\u001b[0m\u001b[0m\n\u001b[0m\u001b[0;32m      8\u001b[0m \u001b[0mdata_train_y\u001b[0m \u001b[1;33m=\u001b[0m \u001b[0mdata_train\u001b[0m\u001b[1;33m[\u001b[0m\u001b[0mlabels\u001b[0m\u001b[1;33m[\u001b[0m\u001b[0mi\u001b[0m\u001b[1;33m]\u001b[0m\u001b[1;33m]\u001b[0m\u001b[1;33m\u001b[0m\u001b[1;33m\u001b[0m\u001b[0m\n\u001b[0;32m      9\u001b[0m \u001b[0mdata_test_x\u001b[0m \u001b[1;33m=\u001b[0m \u001b[0mdata_test\u001b[0m\u001b[1;33m.\u001b[0m\u001b[0mdrop\u001b[0m\u001b[1;33m(\u001b[0m\u001b[0mcolumns\u001b[0m\u001b[1;33m=\u001b[0m\u001b[1;33m[\u001b[0m\u001b[0mlabels\u001b[0m\u001b[1;33m[\u001b[0m\u001b[0mi\u001b[0m\u001b[1;33m]\u001b[0m\u001b[1;33m]\u001b[0m\u001b[1;33m)\u001b[0m\u001b[1;33m\u001b[0m\u001b[1;33m\u001b[0m\u001b[0m\n",
      "\u001b[1;32mc:\\Users\\marin\\miniconda3\\envs\\mlbox\\lib\\site-packages\\sklearn\\preprocessing\\_label.py\u001b[0m in \u001b[0;36mfit_transform\u001b[1;34m(self, y)\u001b[0m\n\u001b[0;32m    249\u001b[0m         \u001b[0my\u001b[0m \u001b[1;33m:\u001b[0m \u001b[0marray\u001b[0m\u001b[1;33m-\u001b[0m\u001b[0mlike\u001b[0m \u001b[0mof\u001b[0m \u001b[0mshape\u001b[0m \u001b[1;33m[\u001b[0m\u001b[0mn_samples\u001b[0m\u001b[1;33m]\u001b[0m\u001b[1;33m\u001b[0m\u001b[1;33m\u001b[0m\u001b[0m\n\u001b[0;32m    250\u001b[0m         \"\"\"\n\u001b[1;32m--> 251\u001b[1;33m         \u001b[0my\u001b[0m \u001b[1;33m=\u001b[0m \u001b[0mcolumn_or_1d\u001b[0m\u001b[1;33m(\u001b[0m\u001b[0my\u001b[0m\u001b[1;33m,\u001b[0m \u001b[0mwarn\u001b[0m\u001b[1;33m=\u001b[0m\u001b[1;32mTrue\u001b[0m\u001b[1;33m)\u001b[0m\u001b[1;33m\u001b[0m\u001b[1;33m\u001b[0m\u001b[0m\n\u001b[0m\u001b[0;32m    252\u001b[0m         \u001b[0mself\u001b[0m\u001b[1;33m.\u001b[0m\u001b[0mclasses_\u001b[0m\u001b[1;33m,\u001b[0m \u001b[0my\u001b[0m \u001b[1;33m=\u001b[0m \u001b[0m_encode\u001b[0m\u001b[1;33m(\u001b[0m\u001b[0my\u001b[0m\u001b[1;33m,\u001b[0m \u001b[0mencode\u001b[0m\u001b[1;33m=\u001b[0m\u001b[1;32mTrue\u001b[0m\u001b[1;33m)\u001b[0m\u001b[1;33m\u001b[0m\u001b[1;33m\u001b[0m\u001b[0m\n\u001b[0;32m    253\u001b[0m         \u001b[1;32mreturn\u001b[0m \u001b[0my\u001b[0m\u001b[1;33m\u001b[0m\u001b[1;33m\u001b[0m\u001b[0m\n",
      "\u001b[1;32mc:\\Users\\marin\\miniconda3\\envs\\mlbox\\lib\\site-packages\\sklearn\\utils\\validation.py\u001b[0m in \u001b[0;36mcolumn_or_1d\u001b[1;34m(y, warn)\u001b[0m\n\u001b[0;32m    795\u001b[0m         \u001b[1;32mreturn\u001b[0m \u001b[0mnp\u001b[0m\u001b[1;33m.\u001b[0m\u001b[0mravel\u001b[0m\u001b[1;33m(\u001b[0m\u001b[0my\u001b[0m\u001b[1;33m)\u001b[0m\u001b[1;33m\u001b[0m\u001b[1;33m\u001b[0m\u001b[0m\n\u001b[0;32m    796\u001b[0m \u001b[1;33m\u001b[0m\u001b[0m\n\u001b[1;32m--> 797\u001b[1;33m     \u001b[1;32mraise\u001b[0m \u001b[0mValueError\u001b[0m\u001b[1;33m(\u001b[0m\u001b[1;34m\"bad input shape {0}\"\u001b[0m\u001b[1;33m.\u001b[0m\u001b[0mformat\u001b[0m\u001b[1;33m(\u001b[0m\u001b[0mshape\u001b[0m\u001b[1;33m)\u001b[0m\u001b[1;33m)\u001b[0m\u001b[1;33m\u001b[0m\u001b[1;33m\u001b[0m\u001b[0m\n\u001b[0m\u001b[0;32m    798\u001b[0m \u001b[1;33m\u001b[0m\u001b[0m\n\u001b[0;32m    799\u001b[0m \u001b[1;33m\u001b[0m\u001b[0m\n",
      "\u001b[1;31mValueError\u001b[0m: bad input shape (1047, 11)"
     ]
    }
   ],
   "source": [
    "i=4\n",
    "data_train, data_test = load(datasets[i])\n",
    "data_train_x = data_train.drop(columns=[labels[i]])\n",
    "data_train_x = data_train.drop(columns=[\"name\"])\n",
    "data_train_x = label_encoder.fit_transform(data_train_x)\n",
    "data_train_y = data_train[labels[i]]\n",
    "data_test_x = data_test.drop(columns=[labels[i]])\n",
    "data_test_x = data_test_x.drop(columns=[\"name\"])\n",
    "data_test_x = label_encoder.fit_transform(data_test_x)\n",
    "data_test_y = data_test[labels[i]]\n",
    "\n",
    "#cv = tpot.RepeatedKFold(n_splits=10, n_repeats=3, random_state=1)\n",
    "# define search\n",
    "model_titanic = tpot.TPOTClassifier(generations=5, population_size=50, scoring='accuracy')\n",
    "model_titanic.fit(data_train_x, data_train_y)\n",
    "results.append(model_titanic.score(data_test_x, data_test_y))"
   ]
  },
  {
   "cell_type": "code",
   "execution_count": null,
   "metadata": {},
   "outputs": [],
   "source": [
    "i=3\n",
    "data_train, data_test = load(datasets[i])\n",
    "data_train_x = data_train.drop(columns=[labels[i]])\n",
    "data_train_y = data_train[labels[i]]\n",
    "data_test_x = data_test.drop(columns=[labels[i]])\n",
    "data_test_y = data_test[labels[i]]\n",
    "\n",
    "#cv = tpot.RepeatedKFold(n_splits=10, n_repeats=3, random_state=1)\n",
    "# define search\n",
    "model_emotion = tpot.TPOTClassifier(generations=5, population_size=50, scoring='accuracy')\n",
    "model_emotion.fit(data_train_x, data_train_y)\n",
    "results.append(model_titanic.score(data_test_x, data_test_y))"
   ]
  },
  {
   "cell_type": "code",
   "execution_count": 16,
   "metadata": {},
   "outputs": [
    {
     "name": "stdout",
     "output_type": "stream",
     "text": [
      "-238.78764569684714\n"
     ]
    }
   ],
   "source": [
    "data_train, data_test = load(\"regression\")\n",
    "data_train_x = data_train.drop(columns=[\"y\"])\n",
    "data_train_y = data_train[\"y\"]\n",
    "data_test_x = data_test.drop(columns=[\"y\"])\n",
    "data_test_y = data_test[\"y\"]\n",
    "\n",
    "#cv = tpot.RepeatedKFold(n_splits=10, n_repeats=3, random_state=1)\n",
    "# define search\n",
    "model_regression = tpot.TPOTRegressor(generations=5, population_size=50)\n",
    "model_regression.fit(data_train_x, data_train_y)\n",
    "print(model_regression.score(data_test_x, data_test_y))"
   ]
  },
  {
   "cell_type": "code",
   "execution_count": 11,
   "metadata": {},
   "outputs": [
    {
     "name": "stdout",
     "output_type": "stream",
     "text": [
      "Accuracy for dataset blobs: 0.99\n",
      "Accuracy for dataset circles: 0.918\n",
      "Accuracy for dataset moons: 0.99\n"
     ]
    }
   ],
   "source": [
    "for i in range(len(results)):\n",
    "    print(\"Accuracy for dataset {}: {}\".format(datasets[i], results[i]))"
   ]
  },
  {
   "cell_type": "code",
   "execution_count": 1,
   "metadata": {},
   "outputs": [
    {
     "ename": "NameError",
     "evalue": "name 'model_blobs' is not defined",
     "output_type": "error",
     "traceback": [
      "\u001b[1;31m---------------------------------------------------------------------------\u001b[0m",
      "\u001b[1;31mNameError\u001b[0m                                 Traceback (most recent call last)",
      "\u001b[1;32mE:\\Temp\\ipykernel_28092\\715578578.py\u001b[0m in \u001b[0;36m<module>\u001b[1;34m\u001b[0m\n\u001b[1;32m----> 1\u001b[1;33m \u001b[0mmodel_blobs\u001b[0m\u001b[1;33m.\u001b[0m\u001b[0mexport\u001b[0m\u001b[1;33m(\u001b[0m\u001b[1;34m'tpot_blobs_pipeline.py'\u001b[0m\u001b[1;33m)\u001b[0m\u001b[1;33m\u001b[0m\u001b[1;33m\u001b[0m\u001b[0m\n\u001b[0m",
      "\u001b[1;31mNameError\u001b[0m: name 'model_blobs' is not defined"
     ]
    }
   ],
   "source": [
    "model_blobs.export('tpot_blobs_pipeline.py')"
   ]
  }
 ],
 "metadata": {
  "kernelspec": {
   "display_name": "mlbox",
   "language": "python",
   "name": "python3"
  },
  "language_info": {
   "codemirror_mode": {
    "name": "ipython",
    "version": 3
   },
   "file_extension": ".py",
   "mimetype": "text/x-python",
   "name": "python",
   "nbconvert_exporter": "python",
   "pygments_lexer": "ipython3",
   "version": "3.7.12"
  },
  "orig_nbformat": 4
 },
 "nbformat": 4,
 "nbformat_minor": 2
}
