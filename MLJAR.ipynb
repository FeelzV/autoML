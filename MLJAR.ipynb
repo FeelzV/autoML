{
 "cells": [
  {
   "cell_type": "code",
   "execution_count": 16,
   "metadata": {},
   "outputs": [
    {
     "name": "stdout",
     "output_type": "stream",
     "text": [
      "AutoML directory: AutoML_19\n",
      "The task is multiclass_classification with evaluation metric logloss\n",
      "AutoML will use algorithms: ['Baseline', 'Linear', 'Decision Tree', 'Random Forest', 'Xgboost', 'Neural Network']\n",
      "AutoML will ensemble available models\n",
      "AutoML steps: ['simple_algorithms', 'default_algorithms', 'ensemble']\n",
      "* Step simple_algorithms will try to check up to 3 models\n",
      "1_Baseline logloss 1.609435 trained in 2.24 seconds\n"
     ]
    },
    {
     "name": "stderr",
     "output_type": "stream",
     "text": [
      "C:\\Users\\marin\\AppData\\Roaming\\Python\\Python39\\site-packages\\sklearn\\preprocessing\\_encoders.py:828: FutureWarning: `sparse` was renamed to `sparse_output` in version 1.2 and will be removed in 1.4. `sparse_output` is ignored unless you leave `sparse` to its default value.\n"
     ]
    },
    {
     "name": "stdout",
     "output_type": "stream",
     "text": [
      "2_DecisionTree logloss 0.069876 trained in 3.16 seconds\n"
     ]
    },
    {
     "name": "stderr",
     "output_type": "stream",
     "text": [
      "C:\\Users\\marin\\AppData\\Roaming\\Python\\Python39\\site-packages\\sklearn\\preprocessing\\_encoders.py:828: FutureWarning: `sparse` was renamed to `sparse_output` in version 1.2 and will be removed in 1.4. `sparse_output` is ignored unless you leave `sparse` to its default value.\n"
     ]
    },
    {
     "name": "stdout",
     "output_type": "stream",
     "text": [
      "3_Linear logloss 0.051873 trained in 3.17 seconds\n",
      "* Step default_algorithms will try to check up to 3 models\n"
     ]
    },
    {
     "name": "stderr",
     "output_type": "stream",
     "text": [
      "C:\\Users\\marin\\AppData\\Roaming\\Python\\Python39\\site-packages\\sklearn\\preprocessing\\_encoders.py:828: FutureWarning: `sparse` was renamed to `sparse_output` in version 1.2 and will be removed in 1.4. `sparse_output` is ignored unless you leave `sparse` to its default value.\n"
     ]
    },
    {
     "name": "stdout",
     "output_type": "stream",
     "text": [
      "4_Default_Xgboost logloss 0.042194 trained in 3.85 seconds\n",
      "5_Default_NeuralNetwork logloss 0.047137 trained in 0.92 seconds\n"
     ]
    },
    {
     "name": "stderr",
     "output_type": "stream",
     "text": [
      "C:\\Users\\marin\\AppData\\Roaming\\Python\\Python39\\site-packages\\sklearn\\preprocessing\\_encoders.py:828: FutureWarning: `sparse` was renamed to `sparse_output` in version 1.2 and will be removed in 1.4. `sparse_output` is ignored unless you leave `sparse` to its default value.\n"
     ]
    },
    {
     "name": "stdout",
     "output_type": "stream",
     "text": [
      "6_Default_RandomForest logloss 0.14601 trained in 4.32 seconds\n",
      "* Step ensemble will try to check up to 1 model\n",
      "Ensemble logloss 0.037845 trained in 0.25 seconds\n",
      "AutoML fit time: 24.36 seconds\n",
      "AutoML best model: Ensemble\n",
      "AutoML directory: AutoML_20\n",
      "The task is binary_classification with evaluation metric logloss\n",
      "AutoML will use algorithms: ['Baseline', 'Linear', 'Decision Tree', 'Random Forest', 'Xgboost', 'Neural Network']\n",
      "AutoML will ensemble available models\n",
      "AutoML steps: ['simple_algorithms', 'default_algorithms', 'ensemble']\n",
      "* Step simple_algorithms will try to check up to 3 models\n",
      "1_Baseline logloss 0.693098 trained in 0.7 seconds\n",
      "2_DecisionTree logloss 0.585045 trained in 2.31 seconds\n",
      "3_Linear logloss 0.693929 trained in 2.38 seconds\n",
      "* Step default_algorithms will try to check up to 3 models\n",
      "4_Default_Xgboost logloss 0.231506 trained in 2.83 seconds\n",
      "5_Default_NeuralNetwork logloss 0.230456 trained in 2.07 seconds\n",
      "6_Default_RandomForest logloss 0.488775 trained in 2.85 seconds\n",
      "* Step ensemble will try to check up to 1 model\n",
      "Ensemble logloss 0.223886 trained in 1.12 seconds\n",
      "AutoML fit time: 22.43 seconds\n",
      "AutoML best model: Ensemble\n",
      "AutoML directory: AutoML_21\n",
      "The task is binary_classification with evaluation metric logloss\n",
      "AutoML will use algorithms: ['Baseline', 'Linear', 'Decision Tree', 'Random Forest', 'Xgboost', 'Neural Network']\n",
      "AutoML will ensemble available models\n",
      "AutoML steps: ['simple_algorithms', 'default_algorithms', 'ensemble']\n",
      "* Step simple_algorithms will try to check up to 3 models\n",
      "1_Baseline logloss 0.693129 trained in 0.76 seconds\n",
      "2_DecisionTree logloss 0.230452 trained in 1.73 seconds\n",
      "3_Linear logloss 0.268574 trained in 2.48 seconds\n",
      "* Step default_algorithms will try to check up to 3 models\n",
      "4_Default_Xgboost logloss 0.049813 trained in 2.77 seconds\n",
      "5_Default_NeuralNetwork logloss 0.038952 trained in 2.1 seconds\n",
      "6_Default_RandomForest logloss 0.173674 trained in 3.53 seconds\n",
      "* Step ensemble will try to check up to 1 model\n",
      "Ensemble logloss 0.038882 trained in 1.11 seconds\n",
      "AutoML fit time: 22.5 seconds\n",
      "AutoML best model: Ensemble\n",
      "Linear algorithm was disabled.\n",
      "AutoML directory: AutoML_22\n",
      "The task is multiclass_classification with evaluation metric logloss\n",
      "AutoML will use algorithms: ['Baseline', 'Decision Tree', 'Random Forest', 'Xgboost', 'Neural Network']\n",
      "AutoML will ensemble available models\n",
      "AutoML steps: ['simple_algorithms', 'default_algorithms', 'ensemble']\n",
      "* Step simple_algorithms will try to check up to 2 models\n",
      "1_Baseline logloss 1.578335 trained in 1.06 seconds\n"
     ]
    },
    {
     "name": "stderr",
     "output_type": "stream",
     "text": [
      "C:\\Users\\marin\\AppData\\Roaming\\Python\\Python39\\site-packages\\sklearn\\preprocessing\\_encoders.py:828: FutureWarning: `sparse` was renamed to `sparse_output` in version 1.2 and will be removed in 1.4. `sparse_output` is ignored unless you leave `sparse` to its default value.\n"
     ]
    },
    {
     "name": "stdout",
     "output_type": "stream",
     "text": [
      "2_DecisionTree logloss 1.563374 trained in 14.62 seconds\n",
      "* Step default_algorithms will try to check up to 3 models\n"
     ]
    },
    {
     "name": "stderr",
     "output_type": "stream",
     "text": [
      "C:\\Users\\marin\\AppData\\Roaming\\Python\\Python39\\site-packages\\sklearn\\preprocessing\\_encoders.py:828: FutureWarning: `sparse` was renamed to `sparse_output` in version 1.2 and will be removed in 1.4. `sparse_output` is ignored unless you leave `sparse` to its default value.\n"
     ]
    },
    {
     "name": "stdout",
     "output_type": "stream",
     "text": [
      "3_Default_Xgboost logloss 1.537671 trained in 22.42 seconds\n",
      "4_Default_NeuralNetwork logloss 1.595145 trained in 4.97 seconds\n"
     ]
    },
    {
     "name": "stderr",
     "output_type": "stream",
     "text": [
      "C:\\Users\\marin\\AppData\\Roaming\\Python\\Python39\\site-packages\\sklearn\\preprocessing\\_encoders.py:828: FutureWarning: `sparse` was renamed to `sparse_output` in version 1.2 and will be removed in 1.4. `sparse_output` is ignored unless you leave `sparse` to its default value.\n"
     ]
    },
    {
     "name": "stdout",
     "output_type": "stream",
     "text": [
      "5_Default_RandomForest logloss 1.550093 trained in 19.51 seconds\n",
      "* Step ensemble will try to check up to 1 model\n",
      "Ensemble logloss 1.533999 trained in 0.38 seconds\n",
      "AutoML fit time: 69.5 seconds\n",
      "AutoML best model: Ensemble\n",
      "AutoML directory: AutoML_23\n",
      "The task is regression with evaluation metric rmse\n",
      "AutoML will use algorithms: ['Baseline', 'Linear', 'Decision Tree', 'Random Forest', 'Xgboost', 'Neural Network']\n",
      "AutoML will ensemble available models\n",
      "AutoML steps: ['simple_algorithms', 'default_algorithms', 'ensemble']\n",
      "* Step simple_algorithms will try to check up to 3 models\n",
      "1_Baseline rmse 74.214674 trained in 1.11 seconds\n",
      "2_DecisionTree rmse 21.213335 trained in 1.57 seconds\n",
      "3_Linear rmse 15.339233 trained in 1.62 seconds\n",
      "* Step default_algorithms will try to check up to 3 models\n",
      "4_Default_Xgboost rmse 15.855585 trained in 2.0 seconds\n",
      "5_Default_NeuralNetwork rmse 15.599264 trained in 1.29 seconds\n",
      "6_Default_RandomForest rmse 16.441519 trained in 2.01 seconds\n",
      "* Step ensemble will try to check up to 1 model\n",
      "Ensemble rmse 15.339233 trained in 0.19 seconds\n",
      "AutoML fit time: 14.66 seconds\n",
      "AutoML best model: 3_Linear\n",
      "AutoML directory: AutoML_24\n",
      "The task is binary_classification with evaluation metric logloss\n",
      "AutoML will use algorithms: ['Baseline', 'Linear', 'Decision Tree', 'Random Forest', 'Xgboost', 'Neural Network']\n",
      "AutoML will ensemble available models\n",
      "AutoML steps: ['simple_algorithms', 'default_algorithms', 'ensemble']\n",
      "* Step simple_algorithms will try to check up to 3 models\n",
      "1_Baseline logloss 0.664881 trained in 1.23 seconds\n",
      "2_DecisionTree logloss 0.446584 trained in 5.3 seconds\n",
      "3_Linear logloss 0.708927 trained in 8.27 seconds\n",
      "* Step default_algorithms will try to check up to 3 models\n",
      "4_Default_Xgboost logloss 0.427889 trained in 7.22 seconds\n",
      "5_Default_NeuralNetwork logloss 0.567019 trained in 4.1 seconds\n",
      "6_Default_RandomForest logloss 0.420258 trained in 9.44 seconds\n",
      "* Step ensemble will try to check up to 1 model\n",
      "Ensemble logloss 0.40575 trained in 1.02 seconds\n",
      "AutoML fit time: 45.68 seconds\n",
      "AutoML best model: Ensemble\n"
     ]
    }
   ],
   "source": [
    "from supervised import AutoML\n",
    "\n",
    "from utils import load\n",
    "\n",
    "datasets = [\"blobs\", \"circles\", \"moons\", \"emotion\", \"regression\", \"titanic\"]\n",
    "labels = [\"label\", \"label\", \"label\", \"label\", \"y\", \"survived\"]\n",
    "results = []\n",
    "for i in range(len(datasets)):\n",
    "    data_train, data_test = load(datasets[i])\n",
    "    data_train_x = data_train.drop(columns=[labels[i]])\n",
    "    data_train_y = data_train[labels[i]]\n",
    "    data_test_x = data_test.drop(columns=[labels[i]])\n",
    "    data_test_y = data_test[labels[i]]\n",
    "    predictor = AutoML()\n",
    "    predictor.fit(data_train_x, data_train_y)\n",
    "    predictions = predictor.predict(data_test_x)\n",
    "    accuracy_score = predictor.score(data_test_x, data_test_y)\n",
    "    results.append(accuracy_score)"
   ]
  },
  {
   "cell_type": "code",
   "execution_count": 18,
   "metadata": {},
   "outputs": [
    {
     "name": "stdout",
     "output_type": "stream",
     "text": [
      "Accuracy score for blobs dataset is 0.991\n",
      "Accuracy score for circles dataset is 0.915\n",
      "Accuracy score for moons dataset is 0.993\n",
      "Accuracy score for emotion dataset is 0.36444444444444446\n",
      "Accuracy score for regression dataset is 0.9559366590890133\n",
      "Accuracy score for titanic dataset is 0.8053435114503816\n"
     ]
    }
   ],
   "source": [
    "for i in range(len(results)):\n",
    "    print(\"Accuracy score for {} dataset is {}\".format(datasets[i], results[i]))"
   ]
  }
 ],
 "metadata": {
  "kernelspec": {
   "display_name": "mljar",
   "language": "python",
   "name": "python3"
  },
  "language_info": {
   "codemirror_mode": {
    "name": "ipython",
    "version": 3
   },
   "file_extension": ".py",
   "mimetype": "text/x-python",
   "name": "python",
   "nbconvert_exporter": "python",
   "pygments_lexer": "ipython3",
   "version": "3.9.16"
  },
  "orig_nbformat": 4
 },
 "nbformat": 4,
 "nbformat_minor": 2
}
